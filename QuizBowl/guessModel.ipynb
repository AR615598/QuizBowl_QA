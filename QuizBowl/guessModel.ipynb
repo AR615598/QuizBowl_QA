{
 "cells": [
  {
   "cell_type": "code",
   "execution_count": 1,
   "metadata": {},
   "outputs": [
    {
     "name": "stderr",
     "output_type": "stream",
     "text": [
      "/Users/alex/anaconda3/envs/QBAM/lib/python3.11/site-packages/tqdm/auto.py:21: TqdmWarning: IProgress not found. Please update jupyter and ipywidgets. See https://ipywidgets.readthedocs.io/en/stable/user_install.html\n",
      "  from .autonotebook import tqdm as notebook_tqdm\n",
      "WARNING: Using incubator modules: jdk.incubator.vector\n"
     ]
    }
   ],
   "source": [
    "from qbam import QBAM\n",
    "from datasets import load_from_disk\n",
    "from transformers import TrainingArguments, Trainer\n",
    "import numpy as np\n",
    "import evaluate\n",
    "\n",
    "ds = load_from_disk('../res/data/guessTrain')"
   ]
  },
  {
   "cell_type": "code",
   "execution_count": 2,
   "metadata": {},
   "outputs": [
    {
     "name": "stderr",
     "output_type": "stream",
     "text": [
      "Jan 14, 2025 3:20:03 AM org.apache.lucene.store.MemorySegmentIndexInputProvider <init>\n",
      "INFO: Using MemorySegmentIndexInput with Java 21; to disable start with -Dorg.apache.lucene.store.MMapDirectory.enableMemorySegments=false\n"
     ]
    },
    {
     "name": "stdout",
     "output_type": "stream",
     "text": [
      "Question: The oldest document written in this language is a letter written in 1521 in the town of Câmpulung, while more recent poets writing in this language include Carmen Sylva and Anton Pann. This language uses five cases, though the genitive and dative cases are identical, as are the nominative and accusative. Tripthongs occur frequently in this language, as in \"rusaoică,\" while interjections in this language include \"mamă-mamă.\" It is more closely related to Dalmatian than to Italian or Spanish, and this language includes the pronouns \"noi,\" \"voi,\" and \"eu\" [\"AY-oo\"] and favors labial consonants such as \"b\" and \"m\" over velars such as \"g\" and \"k.\" For 10 points, name this tongue spoken by the members of O-Zone and Nicolae Ceauşescu, an Eastern Romance language spoken in Bucharest.\n",
      "Answer: Daco-Romanian [also accept limba română]\n"
     ]
    },
    {
     "data": {
      "text/plain": [
       "(7266.207396794879, 'Romanian')"
      ]
     },
     "execution_count": 2,
     "metadata": {},
     "output_type": "execute_result"
    }
   ],
   "source": [
    "pipeline = QBAM(\"RET\")\n",
    "question = ds['train'][0]\n",
    "print(\"Question: \" + question['full_question'])\n",
    "print(\"Answer: \" + question['raw_answer'])\n",
    "pipeline(question)"
   ]
  }
 ],
 "metadata": {
  "kernelspec": {
   "display_name": "QBAM",
   "language": "python",
   "name": "python3"
  },
  "language_info": {
   "codemirror_mode": {
    "name": "ipython",
    "version": 3
   },
   "file_extension": ".py",
   "mimetype": "text/x-python",
   "name": "python",
   "nbconvert_exporter": "python",
   "pygments_lexer": "ipython3",
   "version": "3.11.8"
  }
 },
 "nbformat": 4,
 "nbformat_minor": 2
}
